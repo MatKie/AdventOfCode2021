{
 "cells": [
  {
   "cell_type": "code",
   "execution_count": 1,
   "id": "3e1dd43a-43c3-4835-8193-f55a99924bcb",
   "metadata": {},
   "outputs": [],
   "source": [
    "import numpy as np\n",
    "import os"
   ]
  },
  {
   "cell_type": "code",
   "execution_count": 2,
   "id": "86a90b93-c7d0-4893-a7ca-7aed8e1c185d",
   "metadata": {},
   "outputs": [],
   "source": [
    "with open('input.txt', 'r') as f:\n",
    "    inp = np.loadtxt(f)"
   ]
  },
  {
   "cell_type": "code",
   "execution_count": 3,
   "id": "48f1a765-6e25-469e-829e-8c35446ce9f5",
   "metadata": {},
   "outputs": [],
   "source": [
    "length = inp.shape[0]\n",
    "derivative = np.zeros(length-1)"
   ]
  },
  {
   "cell_type": "code",
   "execution_count": 4,
   "id": "ddaa18f6-bd99-4b26-99e1-19612bcf74fc",
   "metadata": {},
   "outputs": [
    {
     "name": "stdout",
     "output_type": "stream",
     "text": [
      "Number of increases: 1342\n"
     ]
    }
   ],
   "source": [
    "derivative = inp[1:] - inp[:-1]\n",
    "increases = np.where(derivative > 0)\n",
    "print(f'Number of increases: {len(increases[0])}')"
   ]
  },
  {
   "cell_type": "code",
   "execution_count": null,
   "id": "08fdccb4-13d4-4648-ab3d-8b64c2218cda",
   "metadata": {},
   "outputs": [],
   "source": []
  },
  {
   "cell_type": "code",
   "execution_count": null,
   "id": "fa30270b-1f34-4913-9ec5-0c73b096ab38",
   "metadata": {},
   "outputs": [],
   "source": []
  }
 ],
 "metadata": {
  "kernelspec": {
   "display_name": "Python 3 (ipykernel)",
   "language": "python",
   "name": "python3"
  },
  "language_info": {
   "codemirror_mode": {
    "name": "ipython",
    "version": 3
   },
   "file_extension": ".py",
   "mimetype": "text/x-python",
   "name": "python",
   "nbconvert_exporter": "python",
   "pygments_lexer": "ipython3",
   "version": "3.8.10"
  }
 },
 "nbformat": 4,
 "nbformat_minor": 5
}
