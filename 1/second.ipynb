{
 "cells": [
  {
   "cell_type": "code",
   "execution_count": 3,
   "id": "ea465f26-d26e-43ef-bd3a-30289f777693",
   "metadata": {},
   "outputs": [],
   "source": [
    "import numpy as np"
   ]
  },
  {
   "cell_type": "code",
   "execution_count": 4,
   "id": "e13a2dcf-b57b-46f9-8e01-e5ee0b5d16d1",
   "metadata": {},
   "outputs": [],
   "source": [
    "with open('input.txt', 'r') as f:\n",
    "    inp = np.loadtxt(f)"
   ]
  },
  {
   "cell_type": "code",
   "execution_count": 5,
   "id": "cc090cf1-8c3b-44e7-bae7-1d37b827a8f0",
   "metadata": {},
   "outputs": [],
   "source": [
    "sums = inp[:-2] + inp[1:-1] + inp[2:]\n",
    "deriv = sums[1:] - sums[:-1]\n",
    "increases = np.where(deriv > 0)"
   ]
  },
  {
   "cell_type": "code",
   "execution_count": 6,
   "id": "459279cb-4b0c-4f1f-8467-47689a8fa193",
   "metadata": {},
   "outputs": [
    {
     "name": "stdout",
     "output_type": "stream",
     "text": [
      "The sum increases 1378 times\n"
     ]
    }
   ],
   "source": [
    "# More than 657\n",
    "print(f'The sum increases {len(increases[0])} times')"
   ]
  },
  {
   "cell_type": "code",
   "execution_count": null,
   "id": "e4dbd700-07fd-4953-8764-46a5b7cf8812",
   "metadata": {},
   "outputs": [],
   "source": []
  }
 ],
 "metadata": {
  "kernelspec": {
   "display_name": "Python 3 (ipykernel)",
   "language": "python",
   "name": "python3"
  },
  "language_info": {
   "codemirror_mode": {
    "name": "ipython",
    "version": 3
   },
   "file_extension": ".py",
   "mimetype": "text/x-python",
   "name": "python",
   "nbconvert_exporter": "python",
   "pygments_lexer": "ipython3",
   "version": "3.8.10"
  }
 },
 "nbformat": 4,
 "nbformat_minor": 5
}
